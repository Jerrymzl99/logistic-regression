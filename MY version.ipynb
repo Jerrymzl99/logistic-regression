{
 "cells": [
  {
   "cell_type": "markdown",
   "id": "9f919b96",
   "metadata": {},
   "source": [
    "# 2. logistic_regression（逻辑回归）"
   ]
  },
  {
   "cell_type": "code",
   "execution_count": 188,
   "id": "36d4711a",
   "metadata": {},
   "outputs": [],
   "source": [
    "import pandas as pd\n",
    "import numpy as np\n",
    "import matplotlib.pyplot as plt\n",
    "import seaborn as sns\n",
    "\n",
    "from sklearn.metrics import classification_report"
   ]
  },
  {
   "cell_type": "code",
   "execution_count": 189,
   "id": "4fa38c20",
   "metadata": {},
   "outputs": [],
   "source": [
    "from IPython.core.interactiveshell import InteractiveShell\n",
    "InteractiveShell.ast_node_interactivity = \"all\""
   ]
  },
  {
   "cell_type": "markdown",
   "id": "93f232ab",
   "metadata": {},
   "source": [
    "### 2.1 Visualizing the data"
   ]
  },
  {
   "cell_type": "code",
   "execution_count": 190,
   "id": "7fb6e98d",
   "metadata": {},
   "outputs": [
    {
     "data": {
      "text/html": [
       "<div>\n",
       "<style scoped>\n",
       "    .dataframe tbody tr th:only-of-type {\n",
       "        vertical-align: middle;\n",
       "    }\n",
       "\n",
       "    .dataframe tbody tr th {\n",
       "        vertical-align: top;\n",
       "    }\n",
       "\n",
       "    .dataframe thead th {\n",
       "        text-align: right;\n",
       "    }\n",
       "</style>\n",
       "<table border=\"1\" class=\"dataframe\">\n",
       "  <thead>\n",
       "    <tr style=\"text-align: right;\">\n",
       "      <th></th>\n",
       "      <th>Exam1score</th>\n",
       "      <th>Exam2score</th>\n",
       "      <th>Admitted</th>\n",
       "    </tr>\n",
       "  </thead>\n",
       "  <tbody>\n",
       "    <tr>\n",
       "      <th>0</th>\n",
       "      <td>34.623660</td>\n",
       "      <td>78.024693</td>\n",
       "      <td>0</td>\n",
       "    </tr>\n",
       "    <tr>\n",
       "      <th>1</th>\n",
       "      <td>30.286711</td>\n",
       "      <td>43.894998</td>\n",
       "      <td>0</td>\n",
       "    </tr>\n",
       "    <tr>\n",
       "      <th>2</th>\n",
       "      <td>35.847409</td>\n",
       "      <td>72.902198</td>\n",
       "      <td>0</td>\n",
       "    </tr>\n",
       "    <tr>\n",
       "      <th>3</th>\n",
       "      <td>60.182599</td>\n",
       "      <td>86.308552</td>\n",
       "      <td>1</td>\n",
       "    </tr>\n",
       "    <tr>\n",
       "      <th>4</th>\n",
       "      <td>79.032736</td>\n",
       "      <td>75.344376</td>\n",
       "      <td>1</td>\n",
       "    </tr>\n",
       "  </tbody>\n",
       "</table>\n",
       "</div>"
      ],
      "text/plain": [
       "   Exam1score  Exam2score  Admitted\n",
       "0   34.623660   78.024693         0\n",
       "1   30.286711   43.894998         0\n",
       "2   35.847409   72.902198         0\n",
       "3   60.182599   86.308552         1\n",
       "4   79.032736   75.344376         1"
      ]
     },
     "execution_count": 190,
     "metadata": {},
     "output_type": "execute_result"
    },
    {
     "data": {
      "text/plain": [
       "(100, 3)"
      ]
     },
     "execution_count": 190,
     "metadata": {},
     "output_type": "execute_result"
    }
   ],
   "source": [
    "df = pd.read_csv('ex2data1.txt', names = ['Exam1score', 'Exam2score', 'Admitted'])\n",
    "df.head()\n",
    "df.shape"
   ]
  },
  {
   "cell_type": "code",
   "execution_count": 191,
   "id": "d4ebac2b",
   "metadata": {
    "scrolled": true
   },
   "outputs": [
    {
     "data": {
      "text/plain": [
       "Text(0.5, 0, 'Exam 1 score')"
      ]
     },
     "execution_count": 191,
     "metadata": {},
     "output_type": "execute_result"
    },
    {
     "data": {
      "text/plain": [
       "Text(0, 0.5, 'Exam 2 score')"
      ]
     },
     "execution_count": 191,
     "metadata": {},
     "output_type": "execute_result"
    },
    {
     "data": {
      "text/plain": [
       "<matplotlib.collections.PathCollection at 0x248935b74c0>"
      ]
     },
     "execution_count": 191,
     "metadata": {},
     "output_type": "execute_result"
    },
    {
     "data": {
      "image/png": "[encoded data removed]",
      "text/plain": [
       "<Figure size 432x288 with 1 Axes>"
      ]
     },
     "metadata": {},
     "output_type": "display_data"
    }
   ],
   "source": [
    "color_labels = df['Admitted'].unique()\n",
    "rgb_values = sns.color_palette(\"Set2\", 8)\n",
    "color_map = dict(zip(color_labels, rgb_values))\n",
    "plt.xlabel('Exam 1 score')\n",
    "plt.ylabel('Exam 2 score')\n",
    "plt.grid()\n",
    "plt.scatter(df['Exam1score'], df['Exam2score'], c=df['Admitted'].map(color_map))\n",
    "\n",
    "plt.show()"
   ]
  },
  {
   "cell_type": "markdown",
   "id": "9f3b970d",
   "metadata": {},
   "source": [
    "### 2.2 sigmoid 函数\n",
    "g 代表一个常用的逻辑函数（logistic function）为S形函数（Sigmoid function），公式为： \\\\[g\\left( z \\right)=\\frac{1}{1+{{e}^{-z}}}\\\\] \n",
    "合起来，我们得到逻辑回归模型的假设函数： \n",
    "\t\\\\[{{h}_{\\theta }}\\left( x \\right)=\\frac{1}{1+{{e}^{-{{\\theta }^{T}}X}}}\\\\] "
   ]
  },
  {
   "cell_type": "code",
   "execution_count": 192,
   "id": "e92920b2",
   "metadata": {},
   "outputs": [],
   "source": [
    "# insert a column\n",
    "# in column one, named 'one', value '1'\n",
    "df.insert(0, 'one', 1)"
   ]
  },
  {
   "cell_type": "code",
   "execution_count": 193,
   "id": "8cd26266",
   "metadata": {},
   "outputs": [],
   "source": [
    "# different between array and matrix \n",
    "# vector and matrix and array?  \n",
    "# inner product and cross product\n",
    "X = df.iloc[:, :-1].values\n",
    "y = np.array(df.iloc[:,-1])\n",
    "theta = np.zeros(3)\n",
    "# theta = theta.reshape(3,1)"
   ]
  },
  {
   "cell_type": "code",
   "execution_count": 194,
   "id": "cc669275",
   "metadata": {},
   "outputs": [
    {
     "data": {
      "text/plain": [
       "((100, 3), (3,), (100,))"
      ]
     },
     "execution_count": 194,
     "metadata": {},
     "output_type": "execute_result"
    }
   ],
   "source": [
    "X.shape, theta.shape, y.shape"
   ]
  },
  {
   "cell_type": "code",
   "execution_count": 195,
   "id": "2b0a72a3",
   "metadata": {},
   "outputs": [],
   "source": [
    "# former X, y, theta settings are same as in assignment1 \n",
    "# i think insert 1 is necessary\n",
    "# 1 / np.exp(z) and np.exp(-z) is same\n",
    "\n",
    "def Sigmoid (z):\n",
    "    \n",
    "     return 1 / (1 + np.exp(-z))"
   ]
  },
  {
   "cell_type": "code",
   "execution_count": 196,
   "id": "9eeb35c0",
   "metadata": {},
   "outputs": [
    {
     "data": {
      "text/plain": [
       "'\\naxis 指的就是 x 坐标轴，y 坐标轴等，代表的是一根坐标轴。\\n而 axes 在英文里是 axis 的复数形式，也就是说，axes 代表的其实是 figure 当中的一套坐标轴。\\n\\n另外，\\n首先 matplotlib 架构上分为三层\\n底层：backend layer\\n中层：artist layer\\n最高层：scripting layer\\n\\n在任意一层操作都能够实现画图的目的，而且画出来还都一样。但越底层的操作越细节话，越高层越易于人机交互。\\n.plt 对应的就是最高层 scripting layer。这就是为什么它简单上手，但要调细节就不灵了。\\nax.plot 是在 artist layer 上操作。基本上可以实现任何细节的调试。\\nbackend layer, 至今，我还没有见有人在这个layer上操作过\\n\\n'"
      ]
     },
     "execution_count": 196,
     "metadata": {},
     "output_type": "execute_result"
    },
    {
     "data": {
      "text/plain": [
       "[<matplotlib.lines.Line2D at 0x248936de760>]"
      ]
     },
     "execution_count": 196,
     "metadata": {},
     "output_type": "execute_result"
    },
    {
     "data": {
      "text/plain": [
       "Text(0.5, 0, 'z')"
      ]
     },
     "execution_count": 196,
     "metadata": {},
     "output_type": "execute_result"
    },
    {
     "data": {
      "text/plain": [
       "Text(0, 0.5, 'g(z)')"
      ]
     },
     "execution_count": 196,
     "metadata": {},
     "output_type": "execute_result"
    },
    {
     "data": {
      "text/plain": [
       "Text(0.5, 1.0, 'sigmoid function')"
      ]
     },
     "execution_count": 196,
     "metadata": {},
     "output_type": "execute_result"
    },
    {
     "data": {
      "image/png": "[encoded data removed]",
      "text/plain": [
       "<Figure size 576x432 with 1 Axes>"
      ]
     },
     "metadata": {},
     "output_type": "display_data"
    }
   ],
   "source": [
    "# 如何理解 fig, ax = plt.subplots\n",
    "# fig = plt.figure()\n",
    "# ax = fig.add_subplot(1,1,1)\n",
    "'''\n",
    "axis 指的就是 x 坐标轴，y 坐标轴等，代表的是一根坐标轴。\n",
    "而 axes 在英文里是 axis 的复数形式，也就是说，axes 代表的其实是 figure 当中的一套坐标轴。\n",
    "\n",
    "另外，\n",
    "首先 matplotlib 架构上分为三层\n",
    "底层：backend layer\n",
    "中层：artist layer\n",
    "最高层：scripting layer\n",
    "\n",
    "在任意一层操作都能够实现画图的目的，而且画出来还都一样。但越底层的操作越细节话，越高层越易于人机交互。\n",
    ".plt 对应的就是最高层 scripting layer。这就是为什么它简单上手，但要调细节就不灵了。\n",
    "ax.plot 是在 artist layer 上操作。基本上可以实现任何细节的调试。\n",
    "backend layer, 至今，我还没有见有人在这个layer上操作过\n",
    "\n",
    "'''\n",
    "# 我的理解就是 figure是个画板，规定画多大，有多少个子图\n",
    "# axes 是图里的任何东西，要啥都往里加\n",
    "\n",
    "\n",
    "fig, ax = plt.subplots(figsize=(8, 6)) # 默认 fig, ax = plt.subplots(11), 就是return一个1行1个的图，图size是8x6的子图\n",
    "ax.plot(np.arange(-10, 10, step=0.01),\n",
    "        Sigmoid(np.arange(-10, 10, step=0.01))) # -10,10 还是 -20,20都可以，range的不同导致图形大小不一样而已。 \n",
    "                                                # step越小，图形越细致。像那个gradient descent 的learning rate一样，太大就跳过最低值了\n",
    "\n",
    "ax.set_xlabel('z', fontsize=18)\n",
    "ax.set_ylabel('g(z)', fontsize=18)\n",
    "ax.set_title('sigmoid function', fontsize=18)\n",
    "plt.show()"
   ]
  },
  {
   "cell_type": "markdown",
   "id": "2b8dd7e8",
   "metadata": {},
   "source": [
    "### 2.3 cost function(代价函数)\n",
    "> * $max(\\ell(\\theta)) = min(-\\ell(\\theta))$  \n",
    "> * choose $-\\ell(\\theta)$ as the cost function\n",
    "\n",
    "$$\\begin{align}\n",
    "  & J\\left( \\theta  \\right)=-\\frac{1}{m}\\sum\\limits_{i=1}^{m}{[{{y}^{(i)}}\\log \\left( {{h}_{\\theta }}\\left( {{x}^{(i)}} \\right) \\right)+\\left( 1-{{y}^{(i)}} \\right)\\log \\left( 1-{{h}_{\\theta }}\\left( {{x}^{(i)}} \\right) \\right)]} \\\\ \n",
    " & =\\frac{1}{m}\\sum\\limits_{i=1}^{m}{[-{{y}^{(i)}}\\log \\left( {{h}_{\\theta }}\\left( {{x}^{(i)}} \\right) \\right)-\\left( 1-{{y}^{(i)}} \\right)\\log \\left( 1-{{h}_{\\theta }}\\left( {{x}^{(i)}} \\right) \\right)]} \\\\ \n",
    "\\end{align}$$"
   ]
  },
  {
   "cell_type": "code",
   "execution_count": 197,
   "id": "74165f8f",
   "metadata": {},
   "outputs": [],
   "source": [
    "def CostFunc(theta, X, y):\n",
    "    \n",
    "         \n",
    "    return np.mean(-y * np.log(Sigmoid(X @ theta)) - (1 - y) * np.log(1 - Sigmoid(X @ theta)))\n",
    "\n",
    "# def cost(theta, X, y):\n",
    "#     ''' cost fn is -l(theta) for you to minimize'''\n",
    "#     return np.mean(-y * np.log(sigmoid(X @ theta)) - (1 - y) * np.log(1 - sigmoid(X @ theta)))"
   ]
  },
  {
   "cell_type": "code",
   "execution_count": 198,
   "id": "fac92e20",
   "metadata": {},
   "outputs": [
    {
     "data": {
      "text/plain": [
       "0.6931471805599453"
      ]
     },
     "execution_count": 198,
     "metadata": {},
     "output_type": "execute_result"
    }
   ],
   "source": [
    "CostFunc(theta, X, y)"
   ]
  },
  {
   "cell_type": "markdown",
   "id": "99bd18be",
   "metadata": {},
   "source": [
    "### 2.4 Evaluating logistic regression via gradient descent\n",
    "\n",
    "* 这是批量梯度下降（batch gradient descent）  \n",
    "* 转化为向量化计算： $\\frac{1}{m} X^T( Sigmoid(X\\theta) - y )$\n",
    "$$\\frac{\\partial J\\left( \\theta  \\right)}{\\partial {{\\theta }_{j}}}=\\frac{1}{m}\\sum\\limits_{i=1}^{m}{({{h}_{\\theta }}\\left( {{x}^{(i)}} \\right)-{{y}^{(i)}})x_{_{j}}^{(i)}}$$"
   ]
  },
  {
   "cell_type": "code",
   "execution_count": 199,
   "id": "26af0f58",
   "metadata": {},
   "outputs": [],
   "source": [
    "# def DerivativeCost(X, y, theta):\n",
    "    \n",
    "#     D = X.T @ (Sigmoid (X @ theta) - y)\n",
    "    \n",
    "#     return D/(len(X))"
   ]
  },
  {
   "cell_type": "code",
   "execution_count": 200,
   "id": "0902bdfb",
   "metadata": {},
   "outputs": [],
   "source": [
    "def DerivativeCost(theta, X, y):\n",
    "    return (1 / len(X)) * X.T @ (Sigmoid(X @ theta) - y)"
   ]
  },
  {
   "cell_type": "code",
   "execution_count": 201,
   "id": "d68f543d",
   "metadata": {},
   "outputs": [
    {
     "data": {
      "text/plain": [
       "array([ -0.1       , -12.00921659, -11.26284221])"
      ]
     },
     "execution_count": 201,
     "metadata": {},
     "output_type": "execute_result"
    }
   ],
   "source": [
    "DerivativeCost(theta, X, y)"
   ]
  },
  {
   "cell_type": "code",
   "execution_count": 202,
   "id": "21dc2c1e",
   "metadata": {},
   "outputs": [
    {
     "data": {
      "text/plain": [
       "'\\ndef gradientDesc (X, y, theta, epoch, alpha = 0.01):\\n    _theta = _theta - alpha * DerivativeCost(X1, y1, _theta)\\n\\n用这个formula算不知道为啥算不了，奇怪。找了很久资料也没说法，以后再看看\\n'"
      ]
     },
     "execution_count": 202,
     "metadata": {},
     "output_type": "execute_result"
    }
   ],
   "source": [
    "'''\n",
    "def gradientDesc (X, y, theta, epoch, alpha = 0.01):\n",
    "    _theta = _theta - alpha * DerivativeCost(X1, y1, _theta)\n",
    "\n",
    "用这个formula算不知道为啥算不了，奇怪。找了很久资料也没说法，以后再看看\n",
    "'''\n"
   ]
  },
  {
   "cell_type": "code",
   "execution_count": 203,
   "id": "df9e9a6b",
   "metadata": {},
   "outputs": [
    {
     "data": {
      "text/plain": [
       "     fun: 0.2034979253085602\n",
       "     jac: array([1.70019822e-05, 3.11230408e-04, 3.65978254e-04])\n",
       " message: 'Optimization terminated successfully.'\n",
       "    nfev: 72\n",
       "    nhev: 0\n",
       "     nit: 28\n",
       "    njev: 184\n",
       "  status: 0\n",
       " success: True\n",
       "       x: array([-25.12257226,   0.20592172,   0.20115791])"
      ]
     },
     "execution_count": 203,
     "metadata": {},
     "output_type": "execute_result"
    }
   ],
   "source": [
    "import scipy.optimize as opt\n",
    "\n",
    "# why CostFunc should put theta in front of X,y\n",
    "# cuz opt.minimize rules that the format of callable function in Fun is fun(x, *args) -> float\n",
    "# which means fun(x, *args) x is the dependent variables, and args are independent variables \n",
    "\n",
    "result = opt.minimize(fun=CostFunc, x0=theta, args=(X, y), method='Newton-CG', jac=DerivativeCost)\n",
    "result"
   ]
  },
  {
   "cell_type": "code",
   "execution_count": 204,
   "id": "464bb75a",
   "metadata": {},
   "outputs": [],
   "source": [
    "# 验证函数\n",
    "# X: 待验证的特征矩阵\n",
    "# theta: 已经训练好的逻辑回归参数\n",
    "def predict(x, theta):\n",
    "    prob = Sigmoid (x @ theta)\n",
    "    return (prob >= 0.5).astype(int)"
   ]
  },
  {
   "cell_type": "code",
   "execution_count": 205,
   "id": "28fe3482",
   "metadata": {},
   "outputs": [],
   "source": [
    "# x is an attribute of the result of opt.minimize(OptimizeResult)\n",
    "# x is the solution of OptimizeResult\n",
    "# x is an array\n",
    "final_theta = result.x"
   ]
  },
  {
   "cell_type": "code",
   "execution_count": 206,
   "id": "398095d4",
   "metadata": {},
   "outputs": [
    {
     "name": "stdout",
     "output_type": "stream",
     "text": [
      "              precision    recall  f1-score   support\n",
      "\n",
      "           0       0.87      0.85      0.86        40\n",
      "           1       0.90      0.92      0.91        60\n",
      "\n",
      "    accuracy                           0.89       100\n",
      "   macro avg       0.89      0.88      0.88       100\n",
      "weighted avg       0.89      0.89      0.89       100\n",
      "\n"
     ]
    }
   ],
   "source": [
    "# 计算 y 在训练集上的预测值\n",
    "y_predict = predict(X, final_theta)\n",
    "\n",
    "# 打印分类报告\n",
    "print(classification_report(y, y_predict))"
   ]
  },
  {
   "cell_type": "code",
   "execution_count": 207,
   "id": "ee7cdd40",
   "metadata": {},
   "outputs": [],
   "source": [
    "weights = result.x"
   ]
  },
  {
   "cell_type": "code",
   "execution_count": 208,
   "id": "1748a556",
   "metadata": {},
   "outputs": [],
   "source": [
    "x = np.arange(130, step=0.1)\n",
    "y_ = (-weights[0]-weights[1]*x)/weights[2]"
   ]
  },
  {
   "cell_type": "code",
   "execution_count": 209,
   "id": "1376e4f5",
   "metadata": {},
   "outputs": [
    {
     "name": "stderr",
     "output_type": "stream",
     "text": [
      "C:\\Users\\jerry\\anaconda3\\lib\\site-packages\\seaborn\\_decorators.py:36: FutureWarning: Pass the following variables as keyword args: x, y. From version 0.12, the only valid positional argument will be `data`, and passing other arguments without an explicit keyword will result in an error or misinterpretation.\n",
      "  warnings.warn(\n",
      "C:\\Users\\jerry\\anaconda3\\lib\\site-packages\\seaborn\\regression.py:580: UserWarning: The `size` parameter has been renamed to `height`; please update your code.\n",
      "  warnings.warn(msg, UserWarning)\n"
     ]
    },
    {
     "data": {
      "text/plain": [
       "<seaborn.axisgrid.FacetGrid at 0x248935b7100>"
      ]
     },
     "execution_count": 209,
     "metadata": {},
     "output_type": "execute_result"
    },
    {
     "data": {
      "text/plain": [
       "[<matplotlib.lines.Line2D at 0x2489370c100>]"
      ]
     },
     "execution_count": 209,
     "metadata": {},
     "output_type": "execute_result"
    },
    {
     "data": {
      "text/plain": [
       "(0.0, 130.0)"
      ]
     },
     "execution_count": 209,
     "metadata": {},
     "output_type": "execute_result"
    },
    {
     "data": {
      "text/plain": [
       "(0.0, 130.0)"
      ]
     },
     "execution_count": 209,
     "metadata": {},
     "output_type": "execute_result"
    },
    {
     "data": {
      "text/plain": [
       "Text(0.5, 1.0, 'Decision Boundary')"
      ]
     },
     "execution_count": 209,
     "metadata": {},
     "output_type": "execute_result"
    },
    {
     "data": {
      "image/png": "[encoded data removed]",
      "text/plain": [
       "<Figure size 516.45x432 with 1 Axes>"
      ]
     },
     "metadata": {},
     "output_type": "display_data"
    }
   ],
   "source": [
    "sns.set(context=\"notebook\", style=\"ticks\", font_scale=1.5)\n",
    "\n",
    "sns.lmplot('Exam1score', 'Exam2score', hue='Admitted', data=df, \n",
    "           size=6, \n",
    "           fit_reg=False, \n",
    "           scatter_kws={\"s\": 25}\n",
    "          )\n",
    "\n",
    "plt.plot(x, y_, 'grey')\n",
    "plt.xlim(0, 130) # xlimit, 没有这个 regression不能够到xy轴\n",
    "plt.ylim(0, 130)\n",
    "plt.title('Decision Boundary')\n",
    "plt.show()"
   ]
  },
  {
   "cell_type": "markdown",
   "id": "a2c48612",
   "metadata": {},
   "source": [
    "#### Why logistic regression is a linear classifier\n",
    "http://stats.stackexchange.com/questions/93569/why-is-logistic-regression-a-linear-classifier\n",
    "##### Becuase decision boundary is linear"
   ]
  },
  {
   "cell_type": "markdown",
   "id": "6507f4b8",
   "metadata": {},
   "source": [
    "### 2.4 Regularized logistic regression\n",
    "$$J\\left( \\theta  \\right)=\\frac{1}{m}\\sum\\limits_{i=1}^{m}{[-{{y}^{(i)}}\\log \\left( {{h}_{\\theta }}\\left( {{x}^{(i)}} \\right) \\right)-\\left( 1-{{y}^{(i)}} \\right)\\log \\left( 1-{{h}_{\\theta }}\\left( {{x}^{(i)}} \\right) \\right)]}+\\frac{\\lambda }{2m}\\sum\\limits_{j=1}^{n}{\\theta _{j}^{2}}$$"
   ]
  },
  {
   "cell_type": "code",
   "execution_count": 405,
   "id": "fc7245b1",
   "metadata": {},
   "outputs": [
    {
     "data": {
      "text/plain": [
       "'\\nregularize 是啥, 为啥, 如何\\n1. dataset may have many features, and overfitting would be occured if the regression captured too many features\\n2. regularization is a method to correct the problem pf overfitting\\n3. lambda 变小了就可以penalize theta,让theta 变小，从而减少overfitting\\n'"
      ]
     },
     "execution_count": 405,
     "metadata": {},
     "output_type": "execute_result"
    },
    {
     "data": {
      "text/html": [
       "<div>\n",
       "<style scoped>\n",
       "    .dataframe tbody tr th:only-of-type {\n",
       "        vertical-align: middle;\n",
       "    }\n",
       "\n",
       "    .dataframe tbody tr th {\n",
       "        vertical-align: top;\n",
       "    }\n",
       "\n",
       "    .dataframe thead th {\n",
       "        text-align: right;\n",
       "    }\n",
       "</style>\n",
       "<table border=\"1\" class=\"dataframe\">\n",
       "  <thead>\n",
       "    <tr style=\"text-align: right;\">\n",
       "      <th></th>\n",
       "      <th>text1</th>\n",
       "      <th>text2</th>\n",
       "      <th>admitted1</th>\n",
       "    </tr>\n",
       "  </thead>\n",
       "  <tbody>\n",
       "    <tr>\n",
       "      <th>0</th>\n",
       "      <td>0.051267</td>\n",
       "      <td>0.69956</td>\n",
       "      <td>1</td>\n",
       "    </tr>\n",
       "    <tr>\n",
       "      <th>1</th>\n",
       "      <td>-0.092742</td>\n",
       "      <td>0.68494</td>\n",
       "      <td>1</td>\n",
       "    </tr>\n",
       "    <tr>\n",
       "      <th>2</th>\n",
       "      <td>-0.213710</td>\n",
       "      <td>0.69225</td>\n",
       "      <td>1</td>\n",
       "    </tr>\n",
       "    <tr>\n",
       "      <th>3</th>\n",
       "      <td>-0.375000</td>\n",
       "      <td>0.50219</td>\n",
       "      <td>1</td>\n",
       "    </tr>\n",
       "    <tr>\n",
       "      <th>4</th>\n",
       "      <td>-0.513250</td>\n",
       "      <td>0.46564</td>\n",
       "      <td>1</td>\n",
       "    </tr>\n",
       "  </tbody>\n",
       "</table>\n",
       "</div>"
      ],
      "text/plain": [
       "      text1    text2  admitted1\n",
       "0  0.051267  0.69956          1\n",
       "1 -0.092742  0.68494          1\n",
       "2 -0.213710  0.69225          1\n",
       "3 -0.375000  0.50219          1\n",
       "4 -0.513250  0.46564          1"
      ]
     },
     "execution_count": 405,
     "metadata": {},
     "output_type": "execute_result"
    },
    {
     "data": {
      "text/plain": [
       "(118, 3)"
      ]
     },
     "execution_count": 405,
     "metadata": {},
     "output_type": "execute_result"
    }
   ],
   "source": [
    "'''\n",
    "regularize 是啥, 为啥, 如何\n",
    "1. dataset may have many features, and overfitting would be occured if the regression captured too many features\n",
    "2. regularization is a method to correct the problem pf overfitting\n",
    "3. lambda 变小了就可以penalize theta,让theta 变小，从而减少overfitting\n",
    "'''\n",
    "df1 = pd.read_csv('ex2data2.txt', names = ['text1', 'text2', 'admitted1'])\n",
    "df1.head()\n",
    "df1.shape"
   ]
  },
  {
   "cell_type": "code",
   "execution_count": 406,
   "id": "ca8a88e5",
   "metadata": {},
   "outputs": [
    {
     "name": "stderr",
     "output_type": "stream",
     "text": [
      "C:\\Users\\jerry\\anaconda3\\lib\\site-packages\\seaborn\\_decorators.py:36: FutureWarning: Pass the following variables as keyword args: x, y. From version 0.12, the only valid positional argument will be `data`, and passing other arguments without an explicit keyword will result in an error or misinterpretation.\n",
      "  warnings.warn(\n",
      "C:\\Users\\jerry\\anaconda3\\lib\\site-packages\\seaborn\\regression.py:580: UserWarning: The `size` parameter has been renamed to `height`; please update your code.\n",
      "  warnings.warn(msg, UserWarning)\n"
     ]
    },
    {
     "data": {
      "text/plain": [
       "<seaborn.axisgrid.FacetGrid at 0x24894c07ca0>"
      ]
     },
     "execution_count": 406,
     "metadata": {},
     "output_type": "execute_result"
    },
    {
     "data": {
      "image/png": "[encoded data removed]",
      "text/plain": [
       "<Figure size 493.425x432 with 1 Axes>"
      ]
     },
     "metadata": {},
     "output_type": "display_data"
    }
   ],
   "source": [
    "sns.set(context=\"notebook\", style=\"darkgrid\", palette=sns.color_palette('hls',2))\n",
    "# context 是背景的theme, style是背景格子的theme, palette 就是颜色了\n",
    "\n",
    "sns.lmplot('text1', 'text2', hue='admitted1', data=df1, \n",
    "           size=6, \n",
    "           fit_reg=False, \n",
    "           scatter_kws={\"s\": 50}\n",
    "          )\n",
    "plt.show()#看下数据的样子"
   ]
  },
  {
   "cell_type": "markdown",
   "id": "967808a7",
   "metadata": {},
   "source": [
    "### 2.5 Feature Mapping（特征映射）"
   ]
  },
  {
   "cell_type": "code",
   "execution_count": 407,
   "id": "c67e7dba",
   "metadata": {},
   "outputs": [
    {
     "data": {
      "text/plain": [
       "'\\nSVM (support vector machine) is a classifier/algorithmn to find out the hiper plane/decision boundary for datasets\\nKernal is some method on SVM to deal with datatset\\nVecror is a number has direction and length(x,y)\\ncolumn vecter is a nx1 vector\\nScalar is a number\\n\\nfeature mapping a process/way to make data points from low dimentions to higher dimentions(aim at seeking decision boundary for datasets ofc)\\n'"
      ]
     },
     "execution_count": 407,
     "metadata": {},
     "output_type": "execute_result"
    }
   ],
   "source": [
    "'''\n",
    "SVM (support vector machine) is a classifier/algorithmn to find out the hiper plane/decision boundary for datasets\n",
    "Kernal is some method on SVM to deal with datatset\n",
    "Vecror is a number has direction and length(x,y)\n",
    "column vecter is a nx1 vector\n",
    "Scalar is a number\n",
    "\n",
    "feature mapping a process/way to make data points from low dimentions to higher dimentions(aim at seeking decision boundary for datasets ofc)\n",
    "'''"
   ]
  },
  {
   "cell_type": "markdown",
   "id": "6b2be849",
   "metadata": {},
   "source": [
    "polynomial expansion\n",
    "\n",
    "```\n",
    "在这就用了X6次方就可以，但是为啥是6，也许是经验之谈，暂时未知\n",
    "\n",
    "for i in 0..i\n",
    "  for p in 0..i:\n",
    "    output x^(i-p) * y^p\n",
    "```\n",
    "<img style=\"float: left;\" src=\"../img/mapped_feature.png\">"
   ]
  },
  {
   "cell_type": "code",
   "execution_count": 408,
   "id": "9dea7dec",
   "metadata": {},
   "outputs": [],
   "source": [
    "def feature_mapping(x, y, power, as_ndarray=False):\n",
    "#     \"\"\"return mapped features as ndarray or dataframe\"\"\"\n",
    "    # data = {}\n",
    "    # # inclusive\n",
    "    # for i in np.arange(power + 1):\n",
    "    #     for p in np.arange(i + 1):\n",
    "    #         data[\"f{}{}\".format(i - p, p)] = np.power(x, i - p) * np.power(y, p)\n",
    "\n",
    "    data = {\"f{}{}\".format(i - p, p): np.power(x, i - p) * np.power(y, p)\n",
    "                for i in np.arange(power + 1)\n",
    "                for p in np.arange(i + 1)\n",
    "            }\n",
    "\n",
    "    if as_ndarray:\n",
    "        return pd.DataFrame(data).as_matrix()\n",
    "    else:\n",
    "        return pd.DataFrame(data)\n"
   ]
  },
  {
   "cell_type": "code",
   "execution_count": 409,
   "id": "9fe3f2d1",
   "metadata": {},
   "outputs": [
    {
     "name": "stdout",
     "output_type": "stream",
     "text": [
      "(118, 28)\n"
     ]
    }
   ],
   "source": [
    "x1 = np.array(df1.text1)\n",
    "x2 = np.array(df1.text2)\n",
    "data = feature_mapping(x1, x2, power=6)\n",
    "print(data.shape)\n"
   ]
  },
  {
   "cell_type": "code",
   "execution_count": 410,
   "id": "0c7fe144",
   "metadata": {},
   "outputs": [],
   "source": [
    "# data.shape (118,28)\n",
    "# data.shape[0] -- 就是118, data total number\n",
    "# data.shape[1] -- 就是28, the number of each row\n",
    "\n",
    "theta1 = np.zeros(data.shape[1])"
   ]
  },
  {
   "cell_type": "code",
   "execution_count": 411,
   "id": "2a8dd6f3",
   "metadata": {},
   "outputs": [],
   "source": [
    "data.insert(0, 'one', 1)\n",
    "X1 = data.iloc[:, :-1].values\n",
    "y1 = np.array(df1.iloc[:,-1])"
   ]
  },
  {
   "cell_type": "code",
   "execution_count": 412,
   "id": "7cc3e68a",
   "metadata": {},
   "outputs": [
    {
     "data": {
      "text/plain": [
       "((118, 28), (118,))"
      ]
     },
     "execution_count": 412,
     "metadata": {},
     "output_type": "execute_result"
    }
   ],
   "source": [
    "X1.shape, y1.shape"
   ]
  },
  {
   "cell_type": "code",
   "execution_count": 413,
   "id": "88a39897",
   "metadata": {},
   "outputs": [],
   "source": [
    "def regularized_cost(theta, X, y, l=1):\n",
    "    theta_ = theta[1:]\n",
    "    penalized_cost = l/(2*(len(X)))* np.power(theta_, 2).sum()\n",
    "    return CostFunc(theta, X, y) + penalized_cost"
   ]
  },
  {
   "cell_type": "code",
   "execution_count": 414,
   "id": "63232702",
   "metadata": {
    "scrolled": true
   },
   "outputs": [
    {
     "data": {
      "text/plain": [
       "0.6931471805599454"
      ]
     },
     "execution_count": 414,
     "metadata": {},
     "output_type": "execute_result"
    }
   ],
   "source": [
    "regularized_cost(theta1, X1, y1, l=1)"
   ]
  },
  {
   "cell_type": "markdown",
   "id": "0498176e",
   "metadata": {},
   "source": [
    "### 2.6 regularized gradient(正则化梯度)\n",
    "$$\\frac{\\partial J\\left( \\theta  \\right)}{\\partial {{\\theta }_{j}}}=\\left( \\frac{1}{m}\\sum\\limits_{i=1}^{m}{\\left( {{h}_{\\theta }}\\left( {{x}^{\\left( i \\right)}} \\right)-{{y}^{\\left( i \\right)}} \\right)} \\right)+\\frac{\\lambda }{m}{{\\theta }_{j}}\\text{ }\\text{             for  j}\\ge \\text{1}$$"
   ]
  },
  {
   "cell_type": "code",
   "execution_count": 415,
   "id": "a073629a",
   "metadata": {},
   "outputs": [],
   "source": [
    "def regularized_gradient(theta, X, y, l=1):\n",
    "    theta_ = theta[1:]\n",
    "    penalized_theta = l/len(X)*theta_\n",
    "    penalized_gradient = np.concatenate([np.array([0]), penalized_theta])\n",
    "    return DerivativeCost(theta, X, y) + penalized_gradient"
   ]
  },
  {
   "cell_type": "code",
   "execution_count": 416,
   "id": "4ecc938d",
   "metadata": {},
   "outputs": [
    {
     "data": {
      "text/plain": [
       "array([8.47457627e-03, 8.47457627e-03, 1.87880932e-02, 7.77711864e-05,\n",
       "       5.03446395e-02, 1.15013308e-02, 3.76648474e-02, 1.83559872e-02,\n",
       "       7.32393391e-03, 8.19244468e-03, 2.34764889e-02, 3.93486234e-02,\n",
       "       2.23923907e-03, 1.28600503e-02, 3.09593720e-03, 3.93028171e-02,\n",
       "       1.99707467e-02, 4.32983232e-03, 3.38643902e-03, 5.83822078e-03,\n",
       "       4.47629067e-03, 3.10079849e-02, 3.10312442e-02, 1.09740238e-03,\n",
       "       6.31570797e-03, 4.08503006e-04, 7.26504316e-03, 1.37646175e-03])"
      ]
     },
     "execution_count": 416,
     "metadata": {},
     "output_type": "execute_result"
    }
   ],
   "source": [
    "regularized_gradient(theta1, X1, y1, l=1)"
   ]
  },
  {
   "cell_type": "code",
   "execution_count": 417,
   "id": "23a3e4f1",
   "metadata": {},
   "outputs": [
    {
     "name": "stdout",
     "output_type": "stream",
     "text": [
      "init cost = 0.6931471805599454\n"
     ]
    },
    {
     "data": {
      "text/plain": [
       "     fun: 0.5335419190952739\n",
       "     jac: array([-1.34237563e-07, -5.73790902e-08, -3.45759092e-08, -2.71213653e-07,\n",
       "       -1.13458738e-07,  1.97894445e-08, -5.08708422e-08,  1.27981460e-07,\n",
       "       -1.29654329e-07,  2.76903653e-10, -7.57958824e-08, -1.18314523e-08,\n",
       "        1.35515147e-07, -2.88454515e-08,  3.34305985e-08,  4.39953603e-08,\n",
       "        1.61542368e-07, -4.57942012e-08,  6.48235447e-08, -5.15713443e-08,\n",
       "       -2.82080079e-08,  7.76964162e-08,  1.26524667e-07,  6.80988965e-08,\n",
       "       -2.07910271e-08,  5.80581809e-08, -3.04488965e-08,  1.08089394e-08])\n",
       " message: 'Optimization terminated successfully.'\n",
       "    nfev: 7\n",
       "    nhev: 0\n",
       "     nit: 6\n",
       "    njev: 71\n",
       "  status: 0\n",
       " success: True\n",
       "       x: array([ 1.28124652e+00,  4.25953782e-06,  6.23057986e-01,  1.19622285e+00,\n",
       "       -2.00414578e+00, -9.02305340e-01, -1.57113017e+00,  1.21020691e-01,\n",
       "       -3.45228825e-01, -3.51504497e-01, -2.98034884e-01, -1.45466498e+00,\n",
       "       -5.22198056e-02, -6.12214011e-01, -2.50852404e-01, -1.40152717e+00,\n",
       "       -2.45283107e-01, -1.98892354e-01, -4.45302668e-02, -2.76702195e-01,\n",
       "       -2.82249206e-01, -6.46465634e-01, -1.04402990e+00,  2.56727950e-02,\n",
       "       -2.88671561e-01,  1.85059739e-02, -3.35890716e-01, -1.19401470e-01])"
      ]
     },
     "execution_count": 417,
     "metadata": {},
     "output_type": "execute_result"
    }
   ],
   "source": [
    "print('init cost = {}'.format(regularized_cost(theta1, X1, y1)))\n",
    "\n",
    "res = opt.minimize(fun=regularized_cost, x0=theta1, args=(X1, y1), method='Newton-CG', jac=regularized_gradient)\n",
    "res"
   ]
  },
  {
   "cell_type": "code",
   "execution_count": 419,
   "id": "d8139778",
   "metadata": {},
   "outputs": [
    {
     "name": "stdout",
     "output_type": "stream",
     "text": [
      "              precision    recall  f1-score   support\n",
      "\n",
      "           0       0.90      0.77      0.83        60\n",
      "           1       0.79      0.91      0.85        58\n",
      "\n",
      "    accuracy                           0.84       118\n",
      "   macro avg       0.85      0.84      0.84       118\n",
      "weighted avg       0.85      0.84      0.84       118\n",
      "\n"
     ]
    }
   ],
   "source": [
    "final_theta1 = res.x\n",
    "y_pred1 = predict(X1, final_theta1)\n",
    "\n",
    "print(classification_report(y1, y_pred1))"
   ]
  },
  {
   "cell_type": "code",
   "execution_count": null,
   "id": "0e4293de",
   "metadata": {},
   "outputs": [],
   "source": []
  },
  {
   "cell_type": "code",
   "execution_count": null,
   "id": "08c38e0b",
   "metadata": {},
   "outputs": [],
   "source": []
  }
 ],
 "metadata": {
  "kernelspec": {
   "display_name": "Python 3 (ipykernel)",
   "language": "python",
   "name": "python3"
  },
  "language_info": {
   "codemirror_mode": {
    "name": "ipython",
    "version": 3
   },
   "file_extension": ".py",
   "mimetype": "text/x-python",
   "name": "python",
   "nbconvert_exporter": "python",
   "pygments_lexer": "ipython3",
   "version": "3.8.8"
  }
 },
 "nbformat": 4,
 "nbformat_minor": 5
}
